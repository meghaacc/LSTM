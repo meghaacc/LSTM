{
 "cells": [
  {
   "cell_type": "code",
   "execution_count": 1,
   "metadata": {},
   "outputs": [],
   "source": [
    "#Loading the dataset\n",
    "import pandas as pd\n",
    "data = pd.read_excel('Amazon_reviews.xlsx')"
   ]
  },
  {
   "cell_type": "code",
   "execution_count": 2,
   "metadata": {},
   "outputs": [],
   "source": [
    "#Importing libraries \n",
    "from sklearn import metrics\n",
    "import numpy as np\n",
    "import matplotlib.pyplot as plt\n",
    "import itertools\n",
    "import nltk\n",
    "from nltk.corpus import stopwords\n",
    "from nltk.stem.porter import PorterStemmer\n",
    "from textblob import TextBlob\n",
    "import re\n",
    "from sklearn.feature_extraction.text import TfidfVectorizer\n",
    "from sklearn.metrics import accuracy_score\n",
    "from sklearn.metrics import precision_score\n",
    "from sklearn.metrics import recall_score\n",
    "from sklearn.metrics import f1_score\n",
    "\n"
   ]
  },
  {
   "cell_type": "code",
   "execution_count": 3,
   "metadata": {},
   "outputs": [
    {
     "data": {
      "text/plain": [
       "product     224\n",
       "seller       60\n",
       "delivery     36\n",
       "Name: intent, dtype: int64"
      ]
     },
     "execution_count": 3,
     "metadata": {},
     "output_type": "execute_result"
    }
   ],
   "source": [
    "#checking the data classes\n",
    "data.head()\n",
    "data['intent'].value_counts()\n"
   ]
  },
  {
   "cell_type": "markdown",
   "metadata": {},
   "source": [
    "#We can see data is imbalanced, will do sampling to balance the data. To inspect this type of data we will check F score "
   ]
  },
  {
   "cell_type": "code",
   "execution_count": 4,
   "metadata": {},
   "outputs": [
    {
     "name": "stdout",
     "output_type": "stream",
     "text": [
      "320\n"
     ]
    }
   ],
   "source": [
    "# Taking independent and dependent variables, x and y from data\n",
    "x= data['reviews']\n",
    "y= data['intent']\n",
    "print(len(x))\n"
   ]
  },
  {
   "cell_type": "markdown",
   "metadata": {},
   "source": [
    "#we will remove the junks from text data using regex\n",
    "#we will correct spellings of reviews from Textblob library\n",
    "#we will then remove stopwords from text so that words required will create impact \n",
    "#we will do stemming so that same form of verbs will be present"
   ]
  },
  {
   "cell_type": "code",
   "execution_count": 5,
   "metadata": {},
   "outputs": [],
   "source": [
    "#Preprocessing the data\n",
    "ps = PorterStemmer()\n",
    "corpus = []\n",
    "data['reviews'] =data['reviews'].apply(lambda x: str(TextBlob(x).correct()))\n",
    "for i in range(0, len(data)):\n",
    "    review = re.sub('[^a-zA-Z]', ' ', data['reviews'][i])\n",
    "    review = review.lower()\n",
    "    review = review.split()\n",
    "    \n",
    "    review = [ps.stem(word) for word in review if not word in stopwords.words('english')]\n",
    "    review = ' '.join(review)\n",
    "    corpus.append(review)"
   ]
  },
  {
   "cell_type": "code",
   "execution_count": 6,
   "metadata": {},
   "outputs": [
    {
     "data": {
      "text/plain": [
       "'low light perform camera outstand'"
      ]
     },
     "execution_count": 6,
     "metadata": {},
     "output_type": "execute_result"
    }
   ],
   "source": [
    "corpus[1]"
   ]
  },
  {
   "cell_type": "code",
   "execution_count": 7,
   "metadata": {},
   "outputs": [
    {
     "name": "stdout",
     "output_type": "stream",
     "text": [
      "320\n",
      "320\n"
     ]
    }
   ],
   "source": [
    "#checking for nan values in text\n",
    "print(len(data))\n",
    "df=data.dropna()\n",
    "print(len(df))\n"
   ]
  },
  {
   "cell_type": "code",
   "execution_count": 8,
   "metadata": {},
   "outputs": [],
   "source": [
    "from sklearn.feature_extraction.text import CountVectorizer, TfidfVectorizer, HashingVectorizer"
   ]
  },
  {
   "cell_type": "code",
   "execution_count": 55,
   "metadata": {},
   "outputs": [
    {
     "name": "stdout",
     "output_type": "stream",
     "text": [
      "672\n",
      "672\n"
     ]
    }
   ],
   "source": [
    "# for text data we will always convert into vectors first which will be passed to model.\n",
    "tfidf_v=TfidfVectorizer(max_features=50,ngram_range=(1,3))\n",
    "X=tfidf_v.fit_transform(corpus).toarray()\n",
    "# performing over sampling to our imbalanced data\n",
    "from imblearn.over_sampling import SMOTE\n",
    "sm = SMOTE( random_state =0)\n",
    "x_samp,y_samp = sm.fit_resample(X,y)\n",
    "print(len(x_samp))\n",
    "print(len(y_samp))\n"
   ]
  },
  {
   "cell_type": "code",
   "execution_count": 56,
   "metadata": {},
   "outputs": [
    {
     "data": {
      "text/plain": [
       "array([0.        , 0.        , 0.        , 0.        , 0.        ,\n",
       "       0.        , 0.        , 0.        , 0.        , 0.65347667,\n",
       "       0.        , 0.        , 0.        , 0.        , 0.        ,\n",
       "       0.        , 0.        , 0.        , 0.        , 0.        ,\n",
       "       0.        , 0.        , 0.        , 0.        , 0.        ,\n",
       "       0.        , 0.        , 0.        , 0.        , 0.        ,\n",
       "       0.        , 0.        , 0.        , 0.75694666, 0.        ,\n",
       "       0.        , 0.        , 0.        , 0.        , 0.        ,\n",
       "       0.        , 0.        , 0.        , 0.        , 0.        ,\n",
       "       0.        , 0.        , 0.        , 0.        , 0.        ])"
      ]
     },
     "execution_count": 56,
     "metadata": {},
     "output_type": "execute_result"
    }
   ],
   "source": [
    "x_samp[1]"
   ]
  },
  {
   "cell_type": "code",
   "execution_count": 57,
   "metadata": {},
   "outputs": [
    {
     "data": {
      "text/plain": [
       "product     224\n",
       "seller      224\n",
       "delivery    224\n",
       "Name: intent, dtype: int64"
      ]
     },
     "execution_count": 57,
     "metadata": {},
     "output_type": "execute_result"
    }
   ],
   "source": [
    "y_samp.value_counts()\n",
    "# now we can see all classes are balanced."
   ]
  },
  {
   "cell_type": "code",
   "execution_count": 58,
   "metadata": {},
   "outputs": [
    {
     "data": {
      "text/plain": [
       "(320, 50)"
      ]
     },
     "execution_count": 58,
     "metadata": {},
     "output_type": "execute_result"
    }
   ],
   "source": [
    "X.shape"
   ]
  },
  {
   "cell_type": "code",
   "execution_count": 59,
   "metadata": {},
   "outputs": [],
   "source": [
    "# will check results with both normal data and sampled data\n",
    "#splitting into train and test with validation size 20 %\n",
    "from sklearn.model_selection import train_test_split\n",
    "X_train, X_test, y_train, y_test = train_test_split(X, y, test_size=0.2, random_state=0)\n",
    "#using sampling\n",
    "X_train_samp, X_test_samp, y_train_samp, y_test_samp = train_test_split(x_samp, y_samp, test_size=0.2, random_state=0)\n"
   ]
  },
  {
   "cell_type": "code",
   "execution_count": 60,
   "metadata": {},
   "outputs": [
    {
     "data": {
      "text/plain": [
       "['also', 'amazon', 'ask', 'back', 'batteri', 'batteri life', 'best']"
      ]
     },
     "execution_count": 60,
     "metadata": {},
     "output_type": "execute_result"
    }
   ],
   "source": [
    "tfidf_v.get_feature_names()[:7]"
   ]
  },
  {
   "cell_type": "code",
   "execution_count": 61,
   "metadata": {},
   "outputs": [],
   "source": [
    "#we can analyze the features by creating dataframe for visvalization\n",
    "count_df = pd.DataFrame(X_train, columns=tfidf_v.get_feature_names())\n",
    "count_df_samp = pd.DataFrame(X_train_samp, columns=tfidf_v.get_feature_names())"
   ]
  },
  {
   "cell_type": "code",
   "execution_count": 62,
   "metadata": {},
   "outputs": [],
   "source": [
    "#function to print and plot confusion matrix\n",
    "\n",
    "def plot_confusion_matrix(cm, classes,\n",
    "                          normalize=False,\n",
    "                          title='Confusion matrix',\n",
    "                          cmap=plt.cm.Blues):\n",
    "    \n",
    "    plt.imshow(cm, interpolation='nearest', cmap=cmap)\n",
    "    plt.title(title)\n",
    "    plt.colorbar()\n",
    "    tick_marks = np.arange(len(classes))\n",
    "    plt.xticks(tick_marks, classes, rotation=45)\n",
    "    plt.yticks(tick_marks, classes)\n",
    "\n",
    "    if normalize:\n",
    "        cm = cm.astype('float') / cm.sum(axis=1)[:, np.newaxis]\n",
    "        print(\"Normalized confusion matrix\")\n",
    "    else:\n",
    "        print('Confusion matrix, without normalization')\n",
    "\n",
    "    thresh = cm.max() / 2.\n",
    "    for i, j in itertools.product(range(cm.shape[0]), range(cm.shape[1])):\n",
    "        plt.text(j, i, cm[i, j],\n",
    "                 horizontalalignment=\"center\",\n",
    "                 color=\"white\" if cm[i, j] > thresh else \"black\")\n",
    "\n",
    "    plt.tight_layout()\n",
    "    plt.ylabel('True label')\n",
    "    plt.xlabel('Predicted label')"
   ]
  },
  {
   "cell_type": "code",
   "execution_count": 63,
   "metadata": {},
   "outputs": [],
   "source": [
    "#we can use classification model over tfidf vectors to categorize in which class review belongs\n",
    "from sklearn.naive_bayes import MultinomialNB\n",
    "classifier=MultinomialNB()"
   ]
  },
  {
   "cell_type": "code",
   "execution_count": 64,
   "metadata": {},
   "outputs": [
    {
     "name": "stdout",
     "output_type": "stream",
     "text": [
      "Using Naive Bayes Multinomial NB model with over sampling\n",
      "Confusion matrix, without normalization\n",
      "accuracy:   0.828\n",
      "precision_score:   0.790\n",
      "recall_score:   0.609\n",
      "f1_score:   0.643\n"
     ]
    },
    {
     "data": {
      "image/png": "[encoded data removed]",
      "text/plain": [
       "<Figure size 432x288 with 2 Axes>"
      ]
     },
     "metadata": {
      "needs_background": "light"
     },
     "output_type": "display_data"
    }
   ],
   "source": [
    "print(\"Using Naive Bayes Multinomial NB model with over sampling\")\n",
    "classifier.fit(X_train, y_train)\n",
    "pred = classifier.predict(X_test)\n",
    "score = metrics.accuracy_score(y_test, pred)\n",
    "cm = metrics.confusion_matrix(y_test, pred)\n",
    "plot_confusion_matrix(cm, classes=['product','seller','delivery'])\n",
    "print(\"accuracy:   %0.3f\" % score)\n",
    "print(\"precision_score:   %0.3f\" % precision_score(y_test, pred, average=\"macro\"))\n",
    "print(\"recall_score:   %0.3f\" % recall_score(y_test, pred, average=\"macro\"))\n",
    "print(\"f1_score:   %0.3f\" % f1_score(y_test, pred, average=\"macro\"))"
   ]
  },
  {
   "cell_type": "code",
   "execution_count": 65,
   "metadata": {},
   "outputs": [
    {
     "name": "stdout",
     "output_type": "stream",
     "text": [
      "Using Naive Bayes Multinomial NB model with over sampling\n",
      "Confusion matrix, without normalization\n",
      "accuracy with over sampling:   0.822\n",
      "precision_score:   0.835\n",
      "recall_score:   0.822\n",
      "f1_score:   0.824\n"
     ]
    },
    {
     "data": {
      "image/png": "[encoded data removed]",
      "text/plain": [
       "<Figure size 432x288 with 2 Axes>"
      ]
     },
     "metadata": {
      "needs_background": "light"
     },
     "output_type": "display_data"
    }
   ],
   "source": [
    "#with sampling\n",
    "print(\"Using Naive Bayes Multinomial NB model with over sampling\")\n",
    "classifier.fit(X_train_samp, y_train_samp)\n",
    "pred = classifier.predict(X_test_samp)\n",
    "score = metrics.accuracy_score(y_test_samp, pred)\n",
    "\n",
    "cm_samp = metrics.confusion_matrix(y_test_samp, pred)\n",
    "#print(cm_samp)\n",
    "plot_confusion_matrix(cm_samp, classes=['product','seller','delivery'])\n",
    "print(\"accuracy with over sampling:   %0.3f\" % score)\n",
    "print(\"precision_score:   %0.3f\" % precision_score(y_test_samp, pred, average=\"macro\"))\n",
    "print(\"recall_score:   %0.3f\" % recall_score(y_test_samp, pred, average=\"macro\"))\n",
    "print(\"f1_score:   %0.3f\" % f1_score(y_test_samp, pred, average=\"macro\"))\n"
   ]
  },
  {
   "cell_type": "code",
   "execution_count": 66,
   "metadata": {},
   "outputs": [
    {
     "name": "stdout",
     "output_type": "stream",
     "text": [
      "Using Random Forest model with over sampling\n",
      "Confusion matrix, without normalization\n",
      "accuracy with over sampling:   0.822\n",
      "precision_score:   0.835\n",
      "recall_score:   0.822\n",
      "f1_score:   0.824\n"
     ]
    },
    {
     "data": {
      "image/png": "[encoded data removed]",
      "text/plain": [
       "<Figure size 432x288 with 2 Axes>"
      ]
     },
     "metadata": {
      "needs_background": "light"
     },
     "output_type": "display_data"
    }
   ],
   "source": [
    "print(\"Using Random Forest model with over sampling\")\n",
    "from sklearn.ensemble import RandomForestClassifier\n",
    "clf = RandomForestClassifier()\n",
    "clf.fit(X_train_samp, y_train_samp)\n",
    "pred = classifier.predict(X_test_samp)\n",
    "score = metrics.accuracy_score(y_test_samp, pred)\n",
    "\n",
    "cm_samp = metrics.confusion_matrix(y_test_samp, pred)\n",
    "#print(cm_samp)\n",
    "plot_confusion_matrix(cm_samp, classes=['product','seller','delivery'])\n",
    "print(\"accuracy with over sampling:   %0.3f\" % score)\n",
    "print(\"precision_score:   %0.3f\" % precision_score(y_test_samp, pred, average=\"macro\"))\n",
    "print(\"recall_score:   %0.3f\" % recall_score(y_test_samp, pred, average=\"macro\"))\n",
    "print(\"f1_score:   %0.3f\" % f1_score(y_test_samp, pred, average=\"macro\"))"
   ]
  },
  {
   "cell_type": "markdown",
   "metadata": {},
   "source": [
    "# Classification using LSTM"
   ]
  },
  {
   "cell_type": "code",
   "execution_count": 67,
   "metadata": {},
   "outputs": [],
   "source": [
    "import tensorflow as tf\n",
    "from tensorflow.keras.layers import Embedding\n",
    "from tensorflow.keras.preprocessing.sequence import pad_sequences\n",
    "from tensorflow.keras.models import Sequential\n",
    "from tensorflow.keras.preprocessing.text import one_hot\n",
    "from tensorflow.keras.layers import LSTM\n",
    "from tensorflow.keras.layers import Dense\n",
    "from tensorflow.keras.layers import Dropout"
   ]
  },
  {
   "cell_type": "code",
   "execution_count": 68,
   "metadata": {},
   "outputs": [],
   "source": [
    "\n",
    "voc_size=5000"
   ]
  },
  {
   "cell_type": "code",
   "execution_count": 93,
   "metadata": {},
   "outputs": [
    {
     "name": "stdout",
     "output_type": "stream",
     "text": [
      "320\n"
     ]
    }
   ],
   "source": [
    "### Dataset Preprocessing\n",
    "from nltk.stem.porter import PorterStemmer\n",
    "ps = PorterStemmer()\n",
    "corpus = []\n",
    "data['reviews'] =data['reviews'].apply(lambda x: str(TextBlob(x).correct()))\n",
    "print(len(data))\n",
    "for i in range(0, len(data)):\n",
    "    review = re.sub('[^a-zA-Z]', ' ', data['reviews'][i])\n",
    "    review = review.lower()\n",
    "    review = review.split()\n",
    "    \n",
    "    review = [ps.stem(word) for word in review if not word in stopwords.words('english')]\n",
    "    review = ' '.join(review)\n",
    "    corpus.append(review)"
   ]
  },
  {
   "cell_type": "code",
   "execution_count": 94,
   "metadata": {},
   "outputs": [
    {
     "data": {
      "text/plain": [
       "[[1766, 2272, 3076, 1594],\n",
       " [2377, 1426, 255, 4456, 3458],\n",
       " [2272, 2155, 3078, 1316, 1766],\n",
       " [1533, 1766, 269, 3677],\n",
       " [1925,\n",
       "  783,\n",
       "  135,\n",
       "  568,\n",
       "  2126,\n",
       "  255,\n",
       "  4450,\n",
       "  2039,\n",
       "  4654,\n",
       "  2303,\n",
       "  4737,\n",
       "  4456,\n",
       "  1672,\n",
       "  520,\n",
       "  4895,\n",
       "  4605,\n",
       "  412,\n",
       "  4327,\n",
       "  2200,\n",
       "  1099,\n",
       "  451,\n",
       "  2892,\n",
       "  638,\n",
       "  4409,\n",
       "  4954,\n",
       "  33,\n",
       "  3508,\n",
       "  4723,\n",
       "  2345,\n",
       "  581,\n",
       "  1759,\n",
       "  2714,\n",
       "  2509,\n",
       "  3299,\n",
       "  1331,\n",
       "  185,\n",
       "  3974,\n",
       "  2838,\n",
       "  2871,\n",
       "  255,\n",
       "  1319,\n",
       "  451,\n",
       "  3775,\n",
       "  3078,\n",
       "  4965,\n",
       "  135,\n",
       "  2303,\n",
       "  4456,\n",
       "  4737,\n",
       "  4456,\n",
       "  1672,\n",
       "  520,\n",
       "  4895,\n",
       "  801,\n",
       "  2936,\n",
       "  2456,\n",
       "  241,\n",
       "  2509],\n",
       " [1533, 3782, 241, 3176],\n",
       " [3142, 3625, 3157],\n",
       " [520, 2936, 294, 37, 801, 2936, 4047, 2936, 801, 2366, 520, 4877],\n",
       " [135, 3076],\n",
       " [141, 433, 3968, 1574, 2016],\n",
       " [3796, 4478],\n",
       " [3890,\n",
       "  4456,\n",
       "  4605,\n",
       "  2984,\n",
       "  2120,\n",
       "  4877,\n",
       "  3623,\n",
       "  3232,\n",
       "  3752,\n",
       "  2730,\n",
       "  4105,\n",
       "  1810,\n",
       "  141,\n",
       "  433,\n",
       "  37],\n",
       " [3155, 3179, 2874, 3780, 4406, 2874, 2868, 3437, 4911, 4456, 37, 135, 568],\n",
       " [2037, 2509, 1672, 3766, 433, 37, 4130, 2494, 1528, 4878],\n",
       " [4456, 433, 250, 3056],\n",
       " [4770, 4618, 790, 168, 168, 727, 4007, 1766, 1038, 4456, 433, 3571, 1766],\n",
       " [911, 731, 2967, 3776],\n",
       " [180, 2952, 1378, 1766, 2442, 4618, 3883, 1766, 4618],\n",
       " [2126, 1766, 1250, 37],\n",
       " [3055, 4193, 1189, 542],\n",
       " [451, 5],\n",
       " [2192,\n",
       "  135,\n",
       "  783,\n",
       "  3974,\n",
       "  2126,\n",
       "  255,\n",
       "  2476,\n",
       "  185,\n",
       "  783,\n",
       "  4456,\n",
       "  3832,\n",
       "  2504,\n",
       "  4989,\n",
       "  4705,\n",
       "  3974,\n",
       "  2936,\n",
       "  1310,\n",
       "  412,\n",
       "  801,\n",
       "  2936],\n",
       " [1766, 3622, 681, 3785, 4737],\n",
       " [884, 3766, 433, 4151, 141, 4654, 135, 568, 1568, 988, 869],\n",
       " [2141, 4025, 1864, 2326, 4071, 4353],\n",
       " [520, 2548, 801, 2936, 1171, 1313, 3732],\n",
       " [1365, 4772, 2948, 3616, 406, 2293, 2937, 899],\n",
       " [460, 2952, 4047, 308],\n",
       " [37, 1766, 4877, 412, 4697, 102, 4911, 4879, 37],\n",
       " [4478, 3155],\n",
       " [135, 2632, 2750, 241],\n",
       " [6, 4414, 4877, 4936, 3921, 3974],\n",
       " [4456, 433, 3292],\n",
       " [4989, 2115, 1956, 3292, 1956, 4877, 1766, 2192],\n",
       " [2452, 634, 4324, 638, 245],\n",
       " [2376, 433, 3292, 1038, 2490, 1189, 1766],\n",
       " [2047, 1378, 3078, 4195, 1378, 3222, 4183],\n",
       " [3952, 666, 4183, 1603, 113, 1666, 1766, 4456, 4877],\n",
       " [1279, 2977, 1759, 4071, 4025, 4183],\n",
       " [4605, 3808, 1353, 371, 1099],\n",
       " [4965, 1724, 454, 141, 433, 602, 3152],\n",
       " [3766, 433, 4643, 4689, 193, 4654],\n",
       " [135, 568, 3780, 1360, 4618, 790, 1766],\n",
       " [3201, 433, 3076],\n",
       " [3890, 2452, 1688, 3780, 55],\n",
       " [473, 185],\n",
       " [135, 2476, 3597, 3430],\n",
       " [2805],\n",
       " [946, 1331, 4973],\n",
       " [4618, 4407, 2126, 1766],\n",
       " [4456, 4296, 37, 433],\n",
       " [806, 78],\n",
       " [4618, 790, 289, 2937, 2748, 4870, 2405, 289, 2937],\n",
       " [3622, 2088, 1764, 4833, 205],\n",
       " [3011, 2124, 2344, 3863],\n",
       " [528, 4559, 2659, 4195, 241, 4559, 199, 2509],\n",
       " [1001, 2074, 203],\n",
       " [3622, 1196],\n",
       " [4071, 294, 3688, 3622, 4992, 4392, 4047, 4133, 1992, 1654, 4047],\n",
       " [1766, 4965, 2885, 4992, 4547, 4482],\n",
       " [2031, 4606],\n",
       " [1533, 3782, 2490, 241, 1768, 3737, 2952],\n",
       " [1533,\n",
       "  2533,\n",
       "  4183,\n",
       "  2490,\n",
       "  135,\n",
       "  568,\n",
       "  3371,\n",
       "  2714,\n",
       "  1023,\n",
       "  2452,\n",
       "  237,\n",
       "  4047,\n",
       "  2952,\n",
       "  2044,\n",
       "  1378,\n",
       "  2336,\n",
       "  4183,\n",
       "  3677,\n",
       "  1378,\n",
       "  2271],\n",
       " [4071, 4488, 542, 1074, 1766, 1897, 294, 4488, 135, 129, 2937],\n",
       " [575],\n",
       " [2293, 575, 3078],\n",
       " [2344, 3863, 1326, 3863, 1766],\n",
       " [4195, 2753, 1810, 3273, 340, 2293, 3389],\n",
       " [1279, 3808, 4025, 4071, 1766, 3808, 4025, 1766, 2952],\n",
       " [1533, 4369, 1766],\n",
       " [783, 1019, 37, 135, 568],\n",
       " [135, 3279, 4191, 4607],\n",
       " [4547, 2031, 3622],\n",
       " [3776, 2714, 774, 2180],\n",
       " [4965, 4932, 451, 2577],\n",
       " [1897, 1533, 1795, 3247, 2580, 2526, 3247],\n",
       " [1279, 4566, 678, 1279, 3020, 4932, 2442, 4618],\n",
       " [4654, 1189, 2345],\n",
       " [643, 2069, 371, 2200, 1099],\n",
       " [4071, 1284, 1406, 2200, 4529, 2473, 3499, 3906, 1418],\n",
       " [4339, 733, 3402, 2714, 3578],\n",
       " [4932, 37, 412],\n",
       " [135, 3279, 2037, 4139],\n",
       " [3120, 3776, 2714, 3299, 3682, 135, 4001, 4706, 1766, 2878, 1528],\n",
       " [897, 3782, 1666],\n",
       " [241, 4965, 1610, 3414, 473, 3382],\n",
       " [4618, 535, 4709, 2690],\n",
       " [4071, 584, 2946, 643],\n",
       " [2180, 1137, 4973, 1023, 451, 2607, 4071, 2180, 643],\n",
       " [3677, 2452, 2177, 4617, 4770, 2097, 3968, 1533, 2468],\n",
       " [2833, 602, 3244, 3382, 2097, 3968],\n",
       " [1197, 4973, 2478, 2104, 1992, 2093, 1992, 4973],\n",
       " [1430, 1280, 212, 3030, 3983],\n",
       " [3677,\n",
       "  4087,\n",
       "  2104,\n",
       "  1992,\n",
       "  1544,\n",
       "  3471,\n",
       "  4973,\n",
       "  135,\n",
       "  3279,\n",
       "  3722,\n",
       "  3890,\n",
       "  357,\n",
       "  2355,\n",
       "  2773],\n",
       " [4071, 2952, 241, 3497],\n",
       " [3677, 1197, 2452, 3136, 2607, 485],\n",
       " [1250, 2492, 4254, 4071, 2952],\n",
       " [4559, 1766, 3906, 1666, 584],\n",
       " [703, 4071, 4203, 3974, 3040],\n",
       " [547, 4877, 3869, 547, 4139, 4195, 4203, 3974, 3677, 584],\n",
       " [2952,\n",
       "  1727,\n",
       "  2336,\n",
       "  3136,\n",
       "  4879,\n",
       "  1766,\n",
       "  4071,\n",
       "  2607,\n",
       "  2484,\n",
       "  4195,\n",
       "  2097,\n",
       "  2065,\n",
       "  535,\n",
       "  1016,\n",
       "  4618],\n",
       " [4605, 643, 1550, 2607, 1946, 169, 1942, 2442, 4183, 1281],\n",
       " [2580, 1023, 4592, 1378, 4605, 4935, 4183, 3664],\n",
       " [4071, 2126, 1766, 3222, 2952, 2097],\n",
       " [4037, 4071, 142, 2323, 3489, 1956, 2952, 637, 774],\n",
       " [3222, 55, 1727, 4025, 4547, 33, 4618, 4108, 1437, 4618, 2625, 1795, 3030],\n",
       " [3176, 1766, 4965, 4948, 3030],\n",
       " [1533, 4285, 2323, 451, 1336, 4666],\n",
       " [2664, 3809, 1727, 897, 4547, 33, 4380, 4618],\n",
       " [1013, 1426, 2753, 4105, 3921, 1672],\n",
       " [2952, 4978, 64, 3562, 1280, 537, 4689, 4723],\n",
       " [2952, 2018, 2982, 4044, 4195, 537, 4689, 4978],\n",
       " [1280, 1378, 1766, 2018, 1378, 2714],\n",
       " [2632, 3562, 897, 2952],\n",
       " [1778, 3176, 1766, 3366, 437, 2161, 2681, 4756, 1766],\n",
       " [3622, 2681],\n",
       " [1766, 4879, 2512, 4618, 790, 3399, 3721, 451, 1766, 1992, 4025],\n",
       " [3152, 4879, 2727, 1038, 4136, 3152, 1766],\n",
       " [4693, 2870, 433, 4788, 2200, 1099],\n",
       " [511, 1763, 824, 1956],\n",
       " [185, 4620, 2682, 2977, 1766, 3382, 435],\n",
       " [2552, 3212, 1766, 1280, 720, 2967, 3299, 185, 2476, 1627, 1645, 2830, 1196],\n",
       " [255, 237, 2944, 537, 3683, 3273, 1759, 718, 1766],\n",
       " [4456, 37, 3294, 78],\n",
       " [568, 4697, 2120, 4965, 3224],\n",
       " [4605, 2984, 4877, 3011],\n",
       " [135, 568, 1038, 37, 451, 1297, 2612, 2509, 4559],\n",
       " [1250, 203, 2830, 1196, 4877, 3011, 1921],\n",
       " [4559, 511, 412, 4559, 1766, 1360],\n",
       " [1250,\n",
       "  3622,\n",
       "  5,\n",
       "  2937,\n",
       "  4450,\n",
       "  1766,\n",
       "  2037,\n",
       "  3248,\n",
       "  37,\n",
       "  2607,\n",
       "  185,\n",
       "  4392,\n",
       "  4133,\n",
       "  1992,\n",
       "  4252],\n",
       " [2413, 2088, 2937, 2830, 2109, 4450, 1766],\n",
       " [2842, 4104, 1263, 3906, 2948, 2829, 185, 284, 2033, 2196, 2141],\n",
       " [3780, 55, 1766],\n",
       " [3078, 1355, 831],\n",
       " [4618, 3921, 1001, 4877],\n",
       " [1810, 3921, 4877],\n",
       " [1766, 451, 3414, 801, 2936, 4877],\n",
       " [2180,\n",
       "  1766,\n",
       "  3366,\n",
       "  3440,\n",
       "  1654,\n",
       "  2452,\n",
       "  2952,\n",
       "  3366,\n",
       "  3440,\n",
       "  1766,\n",
       "  451,\n",
       "  3414,\n",
       "  2440,\n",
       "  801,\n",
       "  2936,\n",
       "  4877,\n",
       "  2425],\n",
       " [4241, 3136, 4770, 3440, 3399, 3136, 4770],\n",
       " [2452, 2952, 449, 3136, 3195, 2093, 3136, 4770, 1184, 581, 2338],\n",
       " [2554, 4632, 4878, 3136, 3078, 4770],\n",
       " [4025, 4139, 2952],\n",
       " [180, 1378, 2044, 1378],\n",
       " [3780, 2289, 3792],\n",
       " [4719, 2377],\n",
       " [4965, 4071],\n",
       " [4719, 4071, 823, 4719, 1759, 4952, 3279, 135],\n",
       " [899],\n",
       " [294, 4709, 520, 3056],\n",
       " [2031, 899],\n",
       " [1897, 2336, 4965, 4071],\n",
       " [4025,\n",
       "  1988,\n",
       "  4183,\n",
       "  2569,\n",
       "  638,\n",
       "  1426,\n",
       "  1925,\n",
       "  1188,\n",
       "  1672,\n",
       "  135,\n",
       "  774,\n",
       "  1355,\n",
       "  4980,\n",
       "  4618,\n",
       "  790],\n",
       " [4025,\n",
       "  4932,\n",
       "  3222,\n",
       "  4239,\n",
       "  3413,\n",
       "  294,\n",
       "  2607,\n",
       "  2097,\n",
       "  3968,\n",
       "  2521,\n",
       "  2097,\n",
       "  3968,\n",
       "  3101,\n",
       "  799,\n",
       "  1857,\n",
       "  2108,\n",
       "  2452,\n",
       "  3968,\n",
       "  176,\n",
       "  4770,\n",
       "  2097,\n",
       "  3968,\n",
       "  1653,\n",
       "  3890],\n",
       " [4605, 2768, 2037, 2569, 1766],\n",
       " [4456, 37, 4547, 1197, 4239, 2037, 307, 4456],\n",
       " [3176,\n",
       "  4618,\n",
       "  790,\n",
       "  1766,\n",
       "  1666,\n",
       "  1533,\n",
       "  3782,\n",
       "  306,\n",
       "  4314,\n",
       "  3682,\n",
       "  4468,\n",
       "  1766,\n",
       "  1353,\n",
       "  1666,\n",
       "  3122,\n",
       "  340,\n",
       "  78,\n",
       "  3890],\n",
       " [3952, 416, 4618],\n",
       " [3078, 406, 4187],\n",
       " [2180, 1766, 3267, 3974, 3974, 2682, 2967, 3196, 681],\n",
       " [135, 3279, 412, 1766, 3722, 3677, 1053, 3299],\n",
       " [4965, 1031, 4992, 3273, 801, 4618],\n",
       " [4618, 293, 3677, 2714, 180, 1378],\n",
       " [2714, 4622, 241, 1642, 2952, 2018, 1378, 4087, 824, 4087],\n",
       " [2456, 2885, 824, 1829, 3737, 2476],\n",
       " [1766, 4877, 1992],\n",
       " [2682, 4251, 1378, 2682, 1196, 774, 4547, 1295],\n",
       " [135, 3279, 3890],\n",
       " [1533, 2442, 4618, 790],\n",
       " [2180, 2473],\n",
       " [2180, 4618, 4559, 4618, 777, 3499],\n",
       " [2254, 4436, 4989, 2300, 1353],\n",
       " [973,\n",
       "  774,\n",
       "  2494,\n",
       "  1540,\n",
       "  2714,\n",
       "  4324,\n",
       "  1671,\n",
       "  1319,\n",
       "  1766,\n",
       "  1533,\n",
       "  2442,\n",
       "  774,\n",
       "  4933,\n",
       "  2494],\n",
       " [1925, 913, 2607, 37, 2690, 4456],\n",
       " [4327, 3974, 2936, 4877, 4047],\n",
       " [520, 250, 3056, 4195, 1023],\n",
       " [294, 1964, 4406, 789, 4877],\n",
       " [2533, 3974, 2703, 2047, 2952, 2018, 4183, 1378, 2155, 4139],\n",
       " [4071,\n",
       "  2018,\n",
       "  4025,\n",
       "  2442,\n",
       "  4130,\n",
       "  2494,\n",
       "  747,\n",
       "  520,\n",
       "  2548,\n",
       "  1383,\n",
       "  2947,\n",
       "  843,\n",
       "  1053,\n",
       "  2830,\n",
       "  2703],\n",
       " [1540, 4047, 4618, 4183, 2952, 2682, 3761, 3196],\n",
       " [4245, 4183, 37, 2937],\n",
       " [3622, 1196],\n",
       " [2377, 1426, 4456, 255, 3983, 2377],\n",
       " [2937, 910, 823],\n",
       " [1672, 3683, 764, 975],\n",
       " [1304, 2037],\n",
       " [37, 135, 568],\n",
       " [3233, 1672],\n",
       " [255, 37],\n",
       " [135, 3014],\n",
       " [433, 725, 2091],\n",
       " [1250, 3378, 59, 3378],\n",
       " [3794, 3752, 4071, 4183, 4605, 643],\n",
       " [135, 2632, 2714, 3677, 1876, 3299],\n",
       " [4478, 412, 4478, 4705, 1766],\n",
       " [1672, 520, 4895, 1166],\n",
       " [4047, 1090, 3721, 4047, 4965, 1724, 2200, 3710, 2266, 1099],\n",
       " [1533, 1766, 682, 2431, 1778, 2982, 3974, 2703, 3399, 2580, 2703, 3974],\n",
       " [12, 2870, 3493, 3480, 1289],\n",
       " [2159, 164, 2768, 451, 774, 3623],\n",
       " [1528, 1023, 4025, 3078, 2405, 3780, 1189],\n",
       " [1053, 3677, 3095, 184, 3078, 3078, 3616],\n",
       " [203, 3474, 199, 542],\n",
       " [4965,\n",
       "  2540,\n",
       "  241,\n",
       "  4555,\n",
       "  304,\n",
       "  1355,\n",
       "  451,\n",
       "  3501,\n",
       "  802,\n",
       "  4973,\n",
       "  2867,\n",
       "  3402,\n",
       "  2525,\n",
       "  935,\n",
       "  3378,\n",
       "  4911,\n",
       "  3201,\n",
       "  433],\n",
       " [783, 4374, 1672, 2825, 78, 2115, 3974, 4383, 1056, 3233, 4456, 433],\n",
       " [2287, 135, 774],\n",
       " [328, 4221, 718, 25, 2803, 1188, 2013],\n",
       " [294, 412, 1672, 3683, 764, 4895],\n",
       " [3677, 4191, 801, 2936],\n",
       " [3201, 433, 783, 4879, 305],\n",
       " [1426, 1331, 2569, 2977, 2838, 1766],\n",
       " [2494, 4026, 4879, 4450, 1172, 3683, 764, 768],\n",
       " [497, 18, 2494],\n",
       " [520, 2548, 294, 412],\n",
       " [85, 3163, 3374, 437, 864, 1569, 439, 2625],\n",
       " [1569, 4233, 4182, 135, 568, 255],\n",
       " [3078, 2264, 783, 1161, 3095, 4221, 1993],\n",
       " [406, 1281, 2013, 2803],\n",
       " [2607, 4133, 3736, 1666],\n",
       " [1672],\n",
       " [3974, 2378, 1249, 4693, 1672, 497, 18, 2494],\n",
       " [4911, 2774, 3000],\n",
       " [4719, 294, 3011, 4182, 806, 4716],\n",
       " [37, 3974, 4383, 1056],\n",
       " [2504, 806, 4716, 1184, 4723, 2825, 78, 1672, 2115],\n",
       " [1672, 3683, 764, 4895, 4973, 3412, 2126, 2936, 526],\n",
       " [135, 255],\n",
       " [4559, 241, 2829, 4559],\n",
       " [565, 2574, 4559, 4047, 2655, 2540],\n",
       " [241, 3493, 2509, 4559, 135, 3279],\n",
       " [3369, 3332, 2569, 1984, 2187, 2569],\n",
       " [1533, 3974, 4047, 241, 565],\n",
       " [1865, 2907, 451, 241, 3974, 4047, 2569, 1984, 2714, 3412, 4047],\n",
       " [1992, 135, 255, 935, 2911],\n",
       " [4456, 433, 1709, 643],\n",
       " [4697, 2120, 1598, 767, 3078, 184],\n",
       " [2820, 537, 2120, 4195, 3475, 2553, 2820, 3281, 524, 1008],\n",
       " [1367, 1053, 2120, 433, 725],\n",
       " [2376, 1336, 250, 1764, 3477, 37, 4605, 2984],\n",
       " [568, 2120, 294, 4879, 2512, 3005, 1413],\n",
       " [4737, 2206, 4456, 294, 4654],\n",
       " [3622, 2937, 1189, 3762],\n",
       " [3413, 565, 4965, 2187, 33, 4362, 801, 3890, 1847],\n",
       " [2452, 138],\n",
       " [890, 2768, 294, 138],\n",
       " [1847, 2690, 4965, 3806, 2709, 2709, 2440],\n",
       " [2486, 2690, 812, 4372, 433],\n",
       " [3683, 764, 2548, 294, 412],\n",
       " [1921, 2037, 3779, 4877, 135, 2476, 3677, 410, 1167, 3247],\n",
       " [4456, 4654],\n",
       " [1956, 1099],\n",
       " [2264, 4001, 2006, 2355],\n",
       " [3917],\n",
       " [1766, 4192, 869, 3906, 4045, 3496],\n",
       " [1766, 2161, 3683, 764, 768],\n",
       " [1067, 2977, 1189, 1313, 451, 2937, 3078],\n",
       " [3622, 1189],\n",
       " [1533,\n",
       "  1766,\n",
       "  1764,\n",
       "  2490,\n",
       "  790,\n",
       "  1533,\n",
       "  2254,\n",
       "  4436,\n",
       "  1956,\n",
       "  3489,\n",
       "  3078,\n",
       "  451,\n",
       "  807,\n",
       "  3078],\n",
       " [3402, 725, 3078, 4620, 3402],\n",
       " [4104, 4071, 720, 2326],\n",
       " [2037, 237, 472, 1766],\n",
       " [2126, 1672],\n",
       " [3152, 3806, 4794, 3152, 255],\n",
       " [2069, 2266, 1099, 2352, 340, 237, 3806, 4908, 3983, 664, 1067],\n",
       " [4409, 3764, 294],\n",
       " [255, 2663, 2682, 3677, 1038, 3780, 1091, 473, 3078, 2264, 3761, 4243],\n",
       " [451, 25, 1651, 4456, 433, 1694, 4456],\n",
       " [2352, 801, 4618, 520, 4895, 3726, 2425, 3499, 451, 4618],\n",
       " [1540, 1759, 2952, 3142],\n",
       " [180, 1279, 1378, 1766],\n",
       " [637, 774],\n",
       " [1778, 4108, 4973],\n",
       " [637, 774, 897, 2937, 3670, 1488, 918, 2180, 239, 918, 3366, 113],\n",
       " [4183, 308, 783],\n",
       " [897, 4618, 790, 2952, 3714],\n",
       " [3780, 55, 2952, 4080, 2336],\n",
       " [2952, 308, 412, 1110, 3596, 799],\n",
       " [460,\n",
       "  2952,\n",
       "  4243,\n",
       "  4183,\n",
       "  2335,\n",
       "  2113,\n",
       "  460,\n",
       "  4618,\n",
       "  790,\n",
       "  112,\n",
       "  4105,\n",
       "  2550,\n",
       "  4618,\n",
       "  790,\n",
       "  2020,\n",
       "  2139,\n",
       "  3773,\n",
       "  987,\n",
       "  4666,\n",
       "  2290,\n",
       "  1487],\n",
       " [2004, 4251, 1378, 3176, 2952, 4195, 2425],\n",
       " [460, 2952],\n",
       " [1952, 3176],\n",
       " [1540, 460, 2952, 451, 4183, 3782, 3120, 241, 4047],\n",
       " [1485, 783, 1304, 3318],\n",
       " [4618,\n",
       "  4620,\n",
       "  1766,\n",
       "  3493,\n",
       "  1574,\n",
       "  3318,\n",
       "  330,\n",
       "  777,\n",
       "  3118,\n",
       "  3499,\n",
       "  172,\n",
       "  4130,\n",
       "  2494,\n",
       "  4632,\n",
       "  2682],\n",
       " [1764, 1189, 4618, 1810, 1574, 3318],\n",
       " [2952, 4195, 4931, 1418, 308],\n",
       " [1666, 3960, 199, 3921],\n",
       " [1167, 4047, 2675, 1418, 433],\n",
       " [4551,\n",
       "  784,\n",
       "  2952,\n",
       "  1629,\n",
       "  1766,\n",
       "  4104,\n",
       "  2820,\n",
       "  1912,\n",
       "  4372,\n",
       "  1666,\n",
       "  4879,\n",
       "  4605,\n",
       "  4482,\n",
       "  1954,\n",
       "  3921],\n",
       " [2456, 1992, 3978, 3890, 2952, 747, 433, 4047, 1418, 485],\n",
       " [1533, 1766, 2490, 241],\n",
       " [2952, 412, 308],\n",
       " [4353, 1533, 4007, 100, 1196, 3782, 2690, 3693],\n",
       " [460, 4071, 294, 2952],\n",
       " [806, 1184, 3677, 598, 3092, 1785, 3616, 1766],\n",
       " [3222, 2097, 2952],\n",
       " [3378, 2714, 3299, 2952, 2674, 4437, 3176, 3440, 3366, 55, 916, 3248],\n",
       " [4707, 3782, 3120, 2714, 2553],\n",
       " [565, 2452, 4878, 4931, 1533, 4285, 4183, 4798, 4881],\n",
       " [1584, 1378, 2519, 4618, 2714, 3751, 308],\n",
       " [2031, 2681, 2714, 3176, 451, 1198, 2091],\n",
       " [1418, 3677, 747, 161, 1104, 4183],\n",
       " [1954, 1533, 1766, 4547, 4898],\n",
       " [460, 2952, 3501, 308],\n",
       " [897, 4618, 605, 451, 552],\n",
       " [602, 4618, 790, 2607, 4437, 4666, 1237, 3890, 3500],\n",
       " [4183, 2533],\n",
       " [2952, 3332, 2681, 2714, 2338, 1378, 1766, 3677, 2557, 2533],\n",
       " [1540, 3499, 2037, 4437, 183, 4785],\n",
       " [308, 2933, 2952],\n",
       " [3155, 583],\n",
       " [2180, 4183, 315],\n",
       " [2180, 3714],\n",
       " [308, 783],\n",
       " [605, 3020, 4706, 2727, 1533, 1764],\n",
       " [460, 2952, 433],\n",
       " [2714, 2952, 4478, 412, 4618, 2714, 308],\n",
       " [37, 308, 583],\n",
       " [3011, 2180, 4618, 2714, 774],\n",
       " [2180, 1766, 3440],\n",
       " [460, 2031, 2952, 4047, 308]]"
      ]
     },
     "execution_count": 94,
     "metadata": {},
     "output_type": "execute_result"
    }
   ],
   "source": [
    "#we will provide each words with unique id from vocab size \n",
    "onehot_repr=[one_hot(words,voc_size)for words in corpus] \n",
    "onehot_repr"
   ]
  },
  {
   "cell_type": "code",
   "execution_count": 95,
   "metadata": {},
   "outputs": [
    {
     "name": "stdout",
     "output_type": "stream",
     "text": [
      "[   0    0    0    0    0    0    0    0    0    0    0    0    0    0\n",
      "    0    0 1766 2272 3076 1594]\n",
      "length of embedding docs 320\n",
      "lenght of y (320,)\n"
     ]
    }
   ],
   "source": [
    "#then to make the sentence size equal we use padding\n",
    "sent_length=20\n",
    "embedded_docs=pad_sequences(onehot_repr,padding='pre',maxlen=sent_length)\n",
    "print(embedded_docs[0])\n",
    "print(\"length of embedding docs\",len(embedded_docs))\n",
    "print(\"lenght of y\",(y.shape))"
   ]
  },
  {
   "cell_type": "code",
   "execution_count": 110,
   "metadata": {},
   "outputs": [
    {
     "name": "stdout",
     "output_type": "stream",
     "text": [
      "672\n",
      "672\n"
     ]
    }
   ],
   "source": [
    "#sampling the data\n",
    "from imblearn.over_sampling import SMOTE\n",
    "sm = SMOTE( random_state =0)\n",
    "x_samp,y_samp = sm.fit_resample(embedded_docs,y)\n",
    "print(len(x_samp))\n",
    "print(len(y_samp))"
   ]
  },
  {
   "cell_type": "code",
   "execution_count": 111,
   "metadata": {},
   "outputs": [],
   "source": [
    "#we will then encode y variable using to categorical \n",
    "from sklearn.preprocessing import LabelEncoder\n",
    "from keras.utils import np_utils\n",
    "encoder = LabelEncoder()\n",
    "encoder.fit(y_samp)\n",
    "encoded_Y = encoder.transform(y_samp)\n",
    "# convert integers to dummy variables (i.e. one hot encoded)\n",
    "dummy_y = np_utils.to_categorical(encoded_Y)\n"
   ]
  },
  {
   "cell_type": "code",
   "execution_count": 159,
   "metadata": {},
   "outputs": [
    {
     "name": "stdout",
     "output_type": "stream",
     "text": [
      "_________________________________________________________________\n",
      "Layer (type)                 Output Shape              Param #   \n",
      "=================================================================\n",
      "embedding_12 (Embedding)     (None, 20, 40)            200000    \n",
      "_________________________________________________________________\n",
      "lstm_12 (LSTM)               (None, 100)               56400     \n",
      "_________________________________________________________________\n",
      "dense_22 (Dense)             (None, 8)                 808       \n",
      "_________________________________________________________________\n",
      "dense_23 (Dense)             (None, 3)                 27        \n",
      "=================================================================\n",
      "Total params: 257,235\n",
      "Trainable params: 257,235\n",
      "Non-trainable params: 0\n",
      "_________________________________________________________________\n",
      "None\n"
     ]
    }
   ],
   "source": [
    "## Creating model\n",
    "embedding_vector_features=40\n",
    "model=Sequential()\n",
    "model.add(Embedding(voc_size,embedding_vector_features,input_length=sent_length))\n",
    "model.add(LSTM(100))\n",
    "model.add(Dense(8,activation='relu'))\n",
    "\n",
    "model.add(Dense(3,activation='softmax'))\n",
    "model.compile(loss='categorical_crossentropy',optimizer='rmsprop',metrics=['accuracy'])\n",
    "print(model.summary())"
   ]
  },
  {
   "cell_type": "code",
   "execution_count": 160,
   "metadata": {},
   "outputs": [
    {
     "data": {
      "text/plain": [
       "((672, 20), (672, 3))"
      ]
     },
     "execution_count": 160,
     "metadata": {},
     "output_type": "execute_result"
    }
   ],
   "source": [
    "x_samp.shape,dummy_y.shape"
   ]
  },
  {
   "cell_type": "code",
   "execution_count": 161,
   "metadata": {},
   "outputs": [],
   "source": [
    "#splitting train test\n",
    "\n",
    "from sklearn.model_selection import train_test_split\n",
    "X_train, X_test, y_train, y_test = train_test_split(x_samp, dummy_y, test_size=0.2, random_state=42)"
   ]
  },
  {
   "cell_type": "code",
   "execution_count": 162,
   "metadata": {},
   "outputs": [
    {
     "name": "stdout",
     "output_type": "stream",
     "text": [
      "Train on 537 samples, validate on 135 samples\n",
      "Epoch 1/10\n",
      "537/537 [==============================] - 3s 7ms/sample - loss: 1.0981 - acc: 0.3445 - val_loss: 1.0955 - val_acc: 0.3037\n",
      "Epoch 2/10\n",
      "537/537 [==============================] - 1s 1ms/sample - loss: 1.0908 - acc: 0.4246 - val_loss: 1.0847 - val_acc: 0.2889\n",
      "Epoch 3/10\n",
      "537/537 [==============================] - 1s 945us/sample - loss: 1.0618 - acc: 0.5363 - val_loss: 1.0803 - val_acc: 0.4444\n",
      "Epoch 4/10\n",
      "537/537 [==============================] - 1s 931us/sample - loss: 1.0138 - acc: 0.6406 - val_loss: 1.0442 - val_acc: 0.5037\n",
      "Epoch 5/10\n",
      "537/537 [==============================] - 0s 930us/sample - loss: 0.9340 - acc: 0.7430 - val_loss: 0.9762 - val_acc: 0.4815\n",
      "Epoch 6/10\n",
      "537/537 [==============================] - 1s 955us/sample - loss: 0.8269 - acc: 0.7467 - val_loss: 1.5594 - val_acc: 0.4148\n",
      "Epoch 7/10\n",
      "537/537 [==============================] - 1s 958us/sample - loss: 0.7984 - acc: 0.7691 - val_loss: 1.1588 - val_acc: 0.3926\n",
      "Epoch 8/10\n",
      "537/537 [==============================] - 0s 926us/sample - loss: 0.6019 - acc: 0.8194 - val_loss: 0.8944 - val_acc: 0.5259\n",
      "Epoch 9/10\n",
      "537/537 [==============================] - 1s 984us/sample - loss: 0.5257 - acc: 0.8641 - val_loss: 0.7781 - val_acc: 0.6815\n",
      "Epoch 10/10\n",
      "537/537 [==============================] - 0s 925us/sample - loss: 0.5096 - acc: 0.8436 - val_loss: 0.8034 - val_acc: 0.6222\n"
     ]
    },
    {
     "data": {
      "text/plain": [
       "<tensorflow.python.keras.callbacks.History at 0x28f42ff8390>"
      ]
     },
     "execution_count": 162,
     "metadata": {},
     "output_type": "execute_result"
    }
   ],
   "source": [
    "model.fit(X_train,y_train,validation_data=(X_test,y_test),epochs=10,batch_size=64)"
   ]
  },
  {
   "cell_type": "code",
   "execution_count": 163,
   "metadata": {},
   "outputs": [
    {
     "name": "stdout",
     "output_type": "stream",
     "text": [
      "135/135 [==============================] - 0s 356us/sample - loss: 0.8034 - acc: 0.6222\n"
     ]
    }
   ],
   "source": [
    "score = model.evaluate( X_test, y_test)"
   ]
  },
  {
   "cell_type": "code",
   "execution_count": 164,
   "metadata": {},
   "outputs": [
    {
     "data": {
      "text/plain": [
       "['loss', 'acc']"
      ]
     },
     "execution_count": 164,
     "metadata": {},
     "output_type": "execute_result"
    }
   ],
   "source": [
    "model.metrics_names"
   ]
  },
  {
   "cell_type": "code",
   "execution_count": 165,
   "metadata": {},
   "outputs": [
    {
     "data": {
      "text/plain": [
       "[0.8034367526019061, 0.62222224]"
      ]
     },
     "execution_count": 165,
     "metadata": {},
     "output_type": "execute_result"
    }
   ],
   "source": [
    "score"
   ]
  },
  {
   "cell_type": "markdown",
   "metadata": {},
   "source": [
    "## Using Birectional LSTM"
   ]
  },
  {
   "cell_type": "code",
   "execution_count": 81,
   "metadata": {},
   "outputs": [],
   "source": [
    "from tensorflow.keras.layers import Embedding\n",
    "from tensorflow.keras.preprocessing.sequence import pad_sequences\n",
    "from tensorflow.keras.models import Sequential\n",
    "from tensorflow.keras.preprocessing.text import one_hot\n",
    "from tensorflow.keras.layers import LSTM\n",
    "from tensorflow.keras.layers import Dense\n",
    "from tensorflow.keras.layers import Bidirectional\n",
    "from tensorflow.keras.layers import Dropout"
   ]
  },
  {
   "cell_type": "code",
   "execution_count": 82,
   "metadata": {},
   "outputs": [],
   "source": [
    "voc_size=5000"
   ]
  },
  {
   "cell_type": "code",
   "execution_count": 190,
   "metadata": {},
   "outputs": [
    {
     "name": "stdout",
     "output_type": "stream",
     "text": [
      "_________________________________________________________________\n",
      "Layer (type)                 Output Shape              Param #   \n",
      "=================================================================\n",
      "embedding_16 (Embedding)     (None, 20, 40)            200000    \n",
      "_________________________________________________________________\n",
      "bidirectional_5 (Bidirection (None, 200)               112800    \n",
      "_________________________________________________________________\n",
      "dropout_15 (Dropout)         (None, 200)               0         \n",
      "_________________________________________________________________\n",
      "dense_30 (Dense)             (None, 8)                 1608      \n",
      "_________________________________________________________________\n",
      "dropout_16 (Dropout)         (None, 8)                 0         \n",
      "_________________________________________________________________\n",
      "dense_31 (Dense)             (None, 3)                 27        \n",
      "=================================================================\n",
      "Total params: 314,435\n",
      "Trainable params: 314,435\n",
      "Non-trainable params: 0\n",
      "_________________________________________________________________\n",
      "None\n"
     ]
    }
   ],
   "source": [
    "embedding_vector_features=40\n",
    "model1=Sequential()\n",
    "model1.add(Embedding(voc_size,embedding_vector_features,input_length=sent_length))\n",
    "model1.add(Bidirectional(LSTM(100)))\n",
    "model1.add(Dropout(0.3))\n",
    "model1.add(Dense(8,activation='relu'))\n",
    "model1.add(Dropout(0.5))\n",
    "model1.add(Dense(3,activation='softmax'))\n",
    "model1.compile(loss='categorical_crossentropy',optimizer='adam',metrics=['accuracy'])\n",
    "print(model1.summary())"
   ]
  },
  {
   "cell_type": "code",
   "execution_count": 191,
   "metadata": {},
   "outputs": [],
   "source": [
    "from sklearn.model_selection import train_test_split\n",
    "X_train, X_test, y_train, y_test = train_test_split(x_samp, dummy_y, test_size=0.2, random_state=42)"
   ]
  },
  {
   "cell_type": "code",
   "execution_count": 199,
   "metadata": {},
   "outputs": [
    {
     "name": "stdout",
     "output_type": "stream",
     "text": [
      "Train on 537 samples, validate on 135 samples\n",
      "Epoch 1/30\n",
      "537/537 [==============================] - 1s 3ms/sample - loss: 0.2858 - acc: 0.8175 - val_loss: 1.3947 - val_acc: 0.6296\n",
      "Epoch 2/30\n",
      "537/537 [==============================] - 1s 3ms/sample - loss: 0.2645 - acc: 0.8287 - val_loss: 1.5460 - val_acc: 0.6519\n",
      "Epoch 3/30\n",
      "537/537 [==============================] - 1s 3ms/sample - loss: 0.2702 - acc: 0.8212 - val_loss: 1.2297 - val_acc: 0.6370\n",
      "Epoch 4/30\n",
      "537/537 [==============================] - 1s 3ms/sample - loss: 0.2861 - acc: 0.8268 - val_loss: 1.7298 - val_acc: 0.6148\n",
      "Epoch 5/30\n",
      "537/537 [==============================] - 1s 3ms/sample - loss: 0.2845 - acc: 0.7821 - val_loss: 1.4480 - val_acc: 0.6519\n",
      "Epoch 6/30\n",
      "537/537 [==============================] - 1s 3ms/sample - loss: 0.2749 - acc: 0.8063 - val_loss: 1.7565 - val_acc: 0.6148\n",
      "Epoch 7/30\n",
      "537/537 [==============================] - 1s 3ms/sample - loss: 0.2909 - acc: 0.7784 - val_loss: 1.5901 - val_acc: 0.6148\n",
      "Epoch 8/30\n",
      "537/537 [==============================] - 1s 3ms/sample - loss: 0.2451 - acc: 0.8380 - val_loss: 1.5370 - val_acc: 0.6000\n",
      "Epoch 9/30\n",
      "537/537 [==============================] - 1s 3ms/sample - loss: 0.2581 - acc: 0.8361 - val_loss: 1.9287 - val_acc: 0.5926\n",
      "Epoch 10/30\n",
      "537/537 [==============================] - 1s 3ms/sample - loss: 0.1931 - acc: 0.8734 - val_loss: 2.3976 - val_acc: 0.6000\n",
      "Epoch 11/30\n",
      "537/537 [==============================] - 2s 3ms/sample - loss: 0.2054 - acc: 0.8529 - val_loss: 1.9090 - val_acc: 0.5852\n",
      "Epoch 12/30\n",
      "537/537 [==============================] - 2s 3ms/sample - loss: 0.1647 - acc: 0.8957 - val_loss: 2.8002 - val_acc: 0.5630\n",
      "Epoch 13/30\n",
      "537/537 [==============================] - 2s 3ms/sample - loss: 0.1583 - acc: 0.8883 - val_loss: 1.9068 - val_acc: 0.6148\n",
      "Epoch 14/30\n",
      "537/537 [==============================] - 2s 3ms/sample - loss: 0.1866 - acc: 0.8585 - val_loss: 2.7479 - val_acc: 0.5852\n",
      "Epoch 15/30\n",
      "537/537 [==============================] - 2s 3ms/sample - loss: 0.1870 - acc: 0.8547 - val_loss: 2.3621 - val_acc: 0.5926\n",
      "Epoch 16/30\n",
      "537/537 [==============================] - 2s 3ms/sample - loss: 0.1775 - acc: 0.8715 - val_loss: 2.3220 - val_acc: 0.6148\n",
      "Epoch 17/30\n",
      "537/537 [==============================] - 1s 3ms/sample - loss: 0.1786 - acc: 0.8641 - val_loss: 2.6637 - val_acc: 0.6074\n",
      "Epoch 18/30\n",
      "537/537 [==============================] - 1s 3ms/sample - loss: 0.2939 - acc: 0.8585 - val_loss: 1.0704 - val_acc: 0.5926\n",
      "Epoch 19/30\n",
      "537/537 [==============================] - 2s 3ms/sample - loss: 0.2378 - acc: 0.8641 - val_loss: 1.2971 - val_acc: 0.5926\n",
      "Epoch 20/30\n",
      "537/537 [==============================] - 1s 3ms/sample - loss: 0.2267 - acc: 0.8473 - val_loss: 1.8869 - val_acc: 0.5852\n",
      "Epoch 21/30\n",
      "537/537 [==============================] - 2s 3ms/sample - loss: 0.2157 - acc: 0.8603 - val_loss: 1.3962 - val_acc: 0.6444\n",
      "Epoch 22/30\n",
      "537/537 [==============================] - 2s 3ms/sample - loss: 0.1919 - acc: 0.9236 - val_loss: 1.6690 - val_acc: 0.6074\n",
      "Epoch 23/30\n",
      "537/537 [==============================] - 1s 3ms/sample - loss: 0.2111 - acc: 0.9292 - val_loss: 1.8875 - val_acc: 0.6148\n",
      "Epoch 24/30\n",
      "537/537 [==============================] - 1s 3ms/sample - loss: 0.1831 - acc: 0.9255 - val_loss: 1.7703 - val_acc: 0.6370\n",
      "Epoch 25/30\n",
      "537/537 [==============================] - 2s 3ms/sample - loss: 0.1979 - acc: 0.9162 - val_loss: 1.6744 - val_acc: 0.6148\n",
      "Epoch 26/30\n",
      "537/537 [==============================] - 2s 3ms/sample - loss: 0.1571 - acc: 0.9274 - val_loss: 1.7167 - val_acc: 0.6000\n",
      "Epoch 27/30\n",
      "537/537 [==============================] - 2s 3ms/sample - loss: 0.1906 - acc: 0.9199 - val_loss: 1.8288 - val_acc: 0.6296\n",
      "Epoch 28/30\n",
      "537/537 [==============================] - 2s 3ms/sample - loss: 0.1625 - acc: 0.9385 - val_loss: 1.7322 - val_acc: 0.6074\n",
      "Epoch 29/30\n",
      "537/537 [==============================] - 2s 3ms/sample - loss: 0.1991 - acc: 0.9088 - val_loss: 1.8920 - val_acc: 0.6222\n",
      "Epoch 30/30\n",
      "537/537 [==============================] - 2s 3ms/sample - loss: 0.2085 - acc: 0.8976 - val_loss: 1.8968 - val_acc: 0.6222\n"
     ]
    },
    {
     "data": {
      "text/plain": [
       "<tensorflow.python.keras.callbacks.History at 0x28f5a0fbb70>"
      ]
     },
     "execution_count": 199,
     "metadata": {},
     "output_type": "execute_result"
    }
   ],
   "source": [
    "model1.fit(X_train,y_train,validation_data=(X_test,y_test),epochs=30,batch_size=44)"
   ]
  },
  {
   "cell_type": "code",
   "execution_count": 200,
   "metadata": {},
   "outputs": [
    {
     "name": "stdout",
     "output_type": "stream",
     "text": [
      "135/135 [==============================] - 0s 533us/sample - loss: 1.8968 - acc: 0.6222\n"
     ]
    }
   ],
   "source": [
    "score = model1.evaluate( X_test, y_test)"
   ]
  },
  {
   "cell_type": "code",
   "execution_count": 201,
   "metadata": {},
   "outputs": [
    {
     "data": {
      "text/plain": [
       "['loss', 'acc']"
      ]
     },
     "execution_count": 201,
     "metadata": {},
     "output_type": "execute_result"
    }
   ],
   "source": [
    "model.metrics_names"
   ]
  },
  {
   "cell_type": "code",
   "execution_count": 202,
   "metadata": {},
   "outputs": [
    {
     "data": {
      "text/plain": [
       "[1.8967662078362924, 0.62222224]"
      ]
     },
     "execution_count": 202,
     "metadata": {},
     "output_type": "execute_result"
    }
   ],
   "source": [
    "score"
   ]
  },
  {
   "cell_type": "code",
   "execution_count": null,
   "metadata": {},
   "outputs": [],
   "source": []
  },
  {
   "cell_type": "code",
   "execution_count": null,
   "metadata": {},
   "outputs": [],
   "source": []
  }
 ],
 "metadata": {
  "kernelspec": {
   "display_name": "Python 3",
   "language": "python",
   "name": "python3"
  },
  "language_info": {
   "codemirror_mode": {
    "name": "ipython",
    "version": 3
   },
   "file_extension": ".py",
   "mimetype": "text/x-python",
   "name": "python",
   "nbconvert_exporter": "python",
   "pygments_lexer": "ipython3",
   "version": "3.7.3"
  }
 },
 "nbformat": 4,
 "nbformat_minor": 2
}
